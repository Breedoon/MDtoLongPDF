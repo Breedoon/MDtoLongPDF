{
 "cells": [
  {
   "cell_type": "code",
   "execution_count": 270,
   "metadata": {
    "collapsed": true
   },
   "outputs": [],
   "source": [
    "from pdfminer.layout import LAParams, LTTextBox\n",
    "from pdfminer.pdfpage import PDFPage\n",
    "from pdfminer.pdfinterp import PDFResourceManager\n",
    "from pdfminer.pdfinterp import PDFPageInterpreter\n",
    "from pdfminer.converter import PDFPageAggregator\n",
    "\n",
    "from time import time\n",
    "import numpy as np\n",
    "import os\n",
    "import re"
   ]
  },
  {
   "cell_type": "code",
   "execution_count": 341,
   "outputs": [],
   "source": [
    "t = time()\n",
    "\n",
    "md_file = '/Users/breedoon/Drive/Minerva/1. CS166 - Modeling and Analysis of Complex Systems/CS166 - LBA project.md'\n",
    "\n",
    "with open(md_file, 'r') as f:\n",
    "    md_data = f.read()"
   ],
   "metadata": {
    "collapsed": false,
    "pycharm": {
     "name": "#%%\n"
    }
   }
  },
  {
   "cell_type": "code",
   "execution_count": 342,
   "outputs": [],
   "source": [
    "# convert wiki links to normal md links\n",
    "temp_md = 'temp.md'\n",
    "wikilinks_pattern = re.compile(r'\\[\\[\\s*(?P<target>[^][|]+?)(\\s*\\|\\s*(?P<label>[^][]+))?\\s*\\]\\]')\n",
    "section_pattern = re.compile(r'^((?:.{0}|.*[^\\\\]))\\#(.+)')\n",
    "new_md_data = ''\n",
    "prev_i = 0\n",
    "for match in wikilinks_pattern.finditer(md_data):\n",
    "    target, label = match.group(1, 3)\n",
    "    if label is None:\n",
    "        label = target\n",
    "    sections = section_pattern.findall(target)\n",
    "    if len(sections) != 0:  # referencing a section in this link\n",
    "        file, section = sections[0]\n",
    "        section = section.replace(' ', '-').lower()\n",
    "        target = file + '#' + section\n",
    "    new_md_data = new_md_data + md_data[prev_i: match.span()[0]] + f\"[{label}]({target})\"\n",
    "    prev_i = match.span()[1]\n",
    "\n",
    "new_md_data = new_md_data + md_data[prev_i:]\n",
    "\n",
    "with open(temp_md, 'w') as f:\n",
    "    f.write(new_md_data)"
   ],
   "metadata": {
    "collapsed": false,
    "pycharm": {
     "name": "#%%\n"
    }
   }
  },
  {
   "cell_type": "code",
   "execution_count": 343,
   "outputs": [],
   "source": [
    "# from flask import Flask, request\n",
    "#\n",
    "# temp_svg = 'temp.svg'\n",
    "# compile_latex_cmd = f\"\"\"/opt/homebrew/lib/node_modules/mathjax-node-cli/bin/tex2svg '{{latex}}' >> {temp_svg}\"\"\"\n",
    "#\n",
    "# app = Flask(__name__)\n",
    "# app.config[\"DEBUG\"] = True\n",
    "# app.secret_key = os.urandom(32)\n",
    "#\n",
    "#\n",
    "# # @app.route('/svg', methods=['GET'])\n",
    "# # def price():\n",
    "# #     latex = request.args.get('q')\n",
    "# #     os.system(compile_latex_cmd.format(latex=latex))\n",
    "# #     with open(temp_svg, 'r') as f:\n",
    "# #         return f.read()\n",
    "#\n",
    "#\n",
    "# app.run(host='localhost', port=8813)"
   ],
   "metadata": {
    "collapsed": false,
    "pycharm": {
     "name": "#%%\n"
    }
   }
  },
  {
   "cell_type": "code",
   "execution_count": 350,
   "outputs": [
    {
     "name": "stderr",
     "output_type": "stream",
     "text": [
      "[WARNING] This document format requires a nonempty <title> element.\n",
      "  Defaulting to 'temp' as the title.\n",
      "  To specify a title, use 'title' in metadata or --metadata title=\"...\".\n"
     ]
    },
    {
     "data": {
      "text/plain": "0"
     },
     "execution_count": 350,
     "metadata": {},
     "output_type": "execute_result"
    }
   ],
   "source": [
    "temp_html = 'temp.html'\n",
    "# --mathjax doesn't work because wkhtmltopdf just cannot render it no matter what i do\n",
    "# --mathml displays well in Safari but no in wkhtmltopdf\n",
    "# --katex also uses javascript so likely won't work in wkhtmltopdf like mathjax\n",
    "# --gladtex is a pain to set up and still didn't work for some reason\n",
    "# --webtex=https://latex.codecogs.com/svg.latex?\n",
    "cmd = f\"\"\"pandoc --css=pandoc.css --self-contained --webtex=https://latex.codecogs.com/svg.latex? -f markdown -t html \"{temp_md}\" -o {temp_html}\"\"\"\n",
    "os.system(cmd)"
   ],
   "metadata": {
    "collapsed": false,
    "pycharm": {
     "name": "#%%\n"
    }
   }
  },
  {
   "cell_type": "code",
   "execution_count": 327,
   "outputs": [],
   "source": [
    "# This way footnotes appear at the bottom of the page and no way to attach them to the end of the text\n",
    "# output_pdf = 'temp.pdf'\n",
    "# cmd = f\"\"\"pandoc -s -V geometry:paperheight=860mm,paperwidth=210mm,margin=0pt --pdf-engine=/Library/TeX/texbin/pdflatex -f markdown -t pdf \"{md_file}\" -o {output_pdf} \"\"\"\n",
    "# os.system(cmd)"
   ],
   "metadata": {
    "collapsed": false,
    "pycharm": {
     "name": "#%%\n"
    }
   }
  },
  {
   "cell_type": "code",
   "execution_count": 349,
   "outputs": [
    {
     "name": "stderr",
     "output_type": "stream",
     "text": [
      "Traceback (most recent call last):\n",
      "  File \"/Library/Frameworks/Python.framework/Versions/3.7/bin/gladtex\", line 11, in <module>\n",
      "    load_entry_point('GladTeX==3.1.0', 'console_scripts', 'gladtex')()\n",
      "  File \"/Library/Frameworks/Python.framework/Versions/3.7/lib/python3.7/site-packages/GladTeX-3.1.0-py3.7.egg/gleetex/__main__.py\", line 474, in main\n",
      "  File \"/Library/Frameworks/Python.framework/Versions/3.7/lib/python3.7/site-packages/GladTeX-3.1.0-py3.7.egg/gleetex/__main__.py\", line 295, in run\n",
      "  File \"/Library/Frameworks/Python.framework/Versions/3.7/lib/python3.7/site-packages/GladTeX-3.1.0-py3.7.egg/gleetex/__main__.py\", line 344, in convert_images\n",
      "  File \"/Library/Frameworks/Python.framework/Versions/3.7/lib/python3.7/site-packages/GladTeX-3.1.0-py3.7.egg/gleetex/cachedconverter.py\", line 146, in convert_all\n",
      "  File \"/Library/Frameworks/Python.framework/Versions/3.7/lib/python3.7/site-packages/GladTeX-3.1.0-py3.7.egg/gleetex/cachedconverter.py\", line 209, in _convert_concurrently\n",
      "  File \"/Library/Frameworks/Python.framework/Versions/3.7/lib/python3.7/concurrent/futures/_base.py\", line 428, in result\n",
      "    return self.__get_result()\n",
      "  File \"/Library/Frameworks/Python.framework/Versions/3.7/lib/python3.7/concurrent/futures/_base.py\", line 384, in __get_result\n",
      "    raise self._exception\n",
      "  File \"/Library/Frameworks/Python.framework/Versions/3.7/lib/python3.7/concurrent/futures/thread.py\", line 57, in run\n",
      "    result = self.fn(*self.args, **self.kwargs)\n",
      "  File \"/Library/Frameworks/Python.framework/Versions/3.7/lib/python3.7/site-packages/GladTeX-3.1.0-py3.7.egg/gleetex/cachedconverter.py\", line 272, in __convert\n",
      "  File \"/Library/Frameworks/Python.framework/Versions/3.7/lib/python3.7/site-packages/GladTeX-3.1.0-py3.7.egg/gleetex/image.py\", line 227, in convert\n",
      "  File \"/Library/Frameworks/Python.framework/Versions/3.7/lib/python3.7/site-packages/GladTeX-3.1.0-py3.7.egg/gleetex/image.py\", line 211, in create_image\n",
      "  File \"/Library/Frameworks/Python.framework/Versions/3.7/lib/python3.7/site-packages/GladTeX-3.1.0-py3.7.egg/gleetex/image.py\", line 322, in create_svg\n",
      "  File \"/Library/Frameworks/Python.framework/Versions/3.7/lib/python3.7/site-packages/GladTeX-3.1.0-py3.7.egg/gleetex/image.py\", line 44, in proc_call\n",
      "  File \"/Library/Frameworks/Python.framework/Versions/3.7/lib/python3.7/subprocess.py\", line 800, in __init__\n",
      "    restore_signals, start_new_session)\n",
      "  File \"/Library/Frameworks/Python.framework/Versions/3.7/lib/python3.7/subprocess.py\", line 1551, in _execute_child\n",
      "    raise child_exception_type(errno_num, err_msg, err_filename)\n",
      "FileNotFoundError: [Errno 2] No such file or directory: 'dvisvgm': 'dvisvgm'\n"
     ]
    },
    {
     "data": {
      "text/plain": "256"
     },
     "execution_count": 349,
     "metadata": {},
     "output_type": "execute_result"
    }
   ],
   "source": [
    "# trying to use gladtex to generate svgs locally, didin't work, some error keeps popping up\n",
    "# temp_htex = 'temp.htex'\n",
    "# os.system(f\"\"\"pandoc --css=pandoc.css -s --gladtex -t html {temp_md} -o {temp_htex}\"\"\")\n",
    "# os.system(f\"\"\"gladtex -d image_dir {temp_htex}\"\"\")\n"
   ],
   "metadata": {
    "collapsed": false,
    "pycharm": {
     "name": "#%%\n"
    }
   }
  },
  {
   "cell_type": "code",
   "execution_count": null,
   "outputs": [],
   "source": [
    "# cmd = f\"\"\"pandoc --pdf-engine='weasyprint' {temp_html} -o {output_pdf}\"\"\"\n",
    "# os.system(cmd)"
   ],
   "metadata": {
    "collapsed": false,
    "pycharm": {
     "name": "#%%\n"
    }
   }
  },
  {
   "cell_type": "code",
   "execution_count": 330,
   "outputs": [],
   "source": [
    "PTS_IN_MM = 1 / 25.4 * 72\n",
    "\n",
    "\n",
    "def get_lowest_y_mm(pdf_filepath):\n",
    "    with open(pdf_filepath, 'rb') as f:\n",
    "        pages = list(PDFPage.get_pages(f))\n",
    "\n",
    "        rsrcmgr = PDFResourceManager()\n",
    "        laparams = LAParams()\n",
    "        device = PDFPageAggregator(rsrcmgr, laparams=laparams)\n",
    "        interpreter = PDFPageInterpreter(rsrcmgr, device)\n",
    "\n",
    "        if len(pages) > 1:\n",
    "            print('More than one page found')\n",
    "\n",
    "        bboxes = []\n",
    "        for page in pages:\n",
    "            interpreter.process_page(page)\n",
    "            layout = device.get_result()\n",
    "            for lobj in layout:\n",
    "                if isinstance(lobj, LTTextBox):\n",
    "                    bboxes.append(lobj.bbox)\n",
    "        page_height = page.mediabox[3]\n",
    "\n",
    "    lowest_y = np.array(bboxes)[:, [1, 3]].min()  # coordinates begin from lower left\n",
    "    return (page_height - lowest_y) / PTS_IN_MM  # convert points to m"
   ],
   "metadata": {
    "collapsed": false,
    "pycharm": {
     "name": "#%%\n"
    }
   }
  },
  {
   "cell_type": "code",
   "execution_count": 359,
   "outputs": [
    {
     "name": "stderr",
     "output_type": "stream",
     "text": [
      "Loading pages (1/6)\n",
      "Counting pages (2/6)                                               \n",
      "Resolving links (4/6)                                                       \n",
      "Loading headers and footers (5/6)                                           \n",
      "Printing pages (6/6)\n",
      "Done                                                                      \n"
     ]
    },
    {
     "data": {
      "text/plain": "0"
     },
     "execution_count": 359,
     "metadata": {},
     "output_type": "execute_result"
    }
   ],
   "source": [
    "temp_pdf = 'output.pdf'\n",
    "if os.path.exists(temp_pdf):\n",
    "    os.remove(temp_pdf)\n",
    "pdf_cmd = \"\"\"wkhtmltopdf -L {ml} -R {mr} -T {mt} -B {mb} --enable-javascript --no-stop-slow-scripts --page-width 210mm --page-height {page_height} --enable-local-file-access {input} {output}\"\"\"\n",
    "# default_margins = dict(ml='1cm', mr='1cm', mt='1cm', mb='1cm')\n",
    "default_margins = dict(ml='1.5cm', mr='1.5cm', mt='1.5cm', mb='1.5cm')\n",
    "os.system(pdf_cmd.format(**{**default_margins, 'mb': 0}, input=temp_html, output=temp_pdf, page_height='1000m'))"
   ],
   "metadata": {
    "collapsed": false,
    "pycharm": {
     "name": "#%%\n"
    }
   }
  },
  {
   "cell_type": "code",
   "execution_count": 360,
   "outputs": [
    {
     "name": "stderr",
     "output_type": "stream",
     "text": [
      "Loading pages (1/6)\n",
      "Counting pages (2/6)                                               \n",
      "Resolving links (4/6)                                                       \n",
      "Loading headers and footers (5/6)                                           \n",
      "Printing pages (6/6)\n",
      "Done                                                                      \n"
     ]
    },
    {
     "data": {
      "text/plain": "0"
     },
     "execution_count": 360,
     "metadata": {},
     "output_type": "execute_result"
    }
   ],
   "source": [
    "lowest_y = get_lowest_y_mm(temp_pdf)\n",
    "new_height = np.ceil(lowest_y) + float(default_margins['mb'][:-2]) * 10\n",
    "os.remove(temp_pdf)\n",
    "\n",
    "# make with new size\n",
    "os.system(pdf_cmd.format(**default_margins, input=temp_html, output=temp_pdf, page_height=f'{new_height}mm'))\n",
    "\n",
    "# remove all pages except for 1st (to remove blank pages)\n",
    "os.system(f\"\"\"qpdf --pages {temp_pdf} 1  -- --replace-input {temp_pdf}\"\"\")"
   ],
   "metadata": {
    "collapsed": false,
    "pycharm": {
     "name": "#%%\n"
    }
   }
  },
  {
   "cell_type": "code",
   "execution_count": 333,
   "outputs": [
    {
     "name": "stdout",
     "output_type": "stream",
     "text": [
      "21.80215096473694\n"
     ]
    }
   ],
   "source": [
    "print(time() - t)"
   ],
   "metadata": {
    "collapsed": false,
    "pycharm": {
     "name": "#%%\n"
    }
   }
  }
 ],
 "metadata": {
  "kernelspec": {
   "display_name": "Python 3",
   "language": "python",
   "name": "python3"
  },
  "language_info": {
   "codemirror_mode": {
    "name": "ipython",
    "version": 2
   },
   "file_extension": ".py",
   "mimetype": "text/x-python",
   "name": "python",
   "nbconvert_exporter": "python",
   "pygments_lexer": "ipython2",
   "version": "2.7.6"
  }
 },
 "nbformat": 4,
 "nbformat_minor": 0
}